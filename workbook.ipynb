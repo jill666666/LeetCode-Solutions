{
 "nbformat": 4,
 "nbformat_minor": 2,
 "metadata": {
  "language_info": {
   "name": "python",
   "codemirror_mode": {
    "name": "ipython",
    "version": 3
   },
   "version": "3.8.1-final"
  },
  "orig_nbformat": 2,
  "file_extension": ".py",
  "mimetype": "text/x-python",
  "name": "python",
  "npconvert_exporter": "python",
  "pygments_lexer": "ipython3",
  "version": 3,
  "kernelspec": {
   "name": "python3",
   "display_name": "Python 3"
  }
 },
 "cells": [
  {
   "cell_type": "code",
   "execution_count": 11,
   "metadata": {},
   "outputs": [
    {
     "output_type": "stream",
     "name": "stdout",
     "text": "4 2\n6 4\n2 2\n0 1\n1\n"
    }
   ],
   "source": [
    "from collections import Counter\n",
    "\n",
    "nums = [4, 2, 4, 2, 1]\n",
    "\n",
    "for i in range(1,len(nums)):\n",
    "    print(nums[0], nums[i])\n",
    "    nums[0] ^= nums[i]\n",
    "print(nums[0])"
   ]
  },
  {
   "cell_type": "code",
   "execution_count": null,
   "metadata": {},
   "outputs": [],
   "source": []
  }
 ]
}